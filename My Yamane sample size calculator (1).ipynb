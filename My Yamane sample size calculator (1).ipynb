{
 "cells": [
  {
   "cell_type": "code",
   "execution_count": null,
   "id": "13922d94",
   "metadata": {},
   "outputs": [],
   "source": [
    "\n",
    "N= int(input(\"Welcome!\\n This sample size calculator has been developed by Moataz M. Khair.\\n The calculator determines the sample size based on the Yamane equation.\\n\\n Please, enter population size, then press enter:\"))\n",
    "CL= int(input(\" Please, enter confidence level 'without the % sign', then press enter:\"))\n",
    "e= (100-CL)/100\n",
    "n= N/(1+(N*(e**2)))\n",
    "import math\n",
    "sample_size = math.ceil(n)\n",
    "print(\"\\n\" , \"Your sample size is:\", \" \", \"(\",sample_size,\")\")\n",
    "print(\"\\n Thank you for dropping by!\")\n"
   ]
  },
  {
   "cell_type": "code",
   "execution_count": null,
   "id": "7d504cf6",
   "metadata": {},
   "outputs": [],
   "source": []
  },
  {
   "cell_type": "code",
   "execution_count": null,
   "id": "443163c0",
   "metadata": {},
   "outputs": [],
   "source": []
  },
  {
   "cell_type": "code",
   "execution_count": null,
   "id": "e0aac5ac",
   "metadata": {},
   "outputs": [],
   "source": []
  },
  {
   "cell_type": "code",
   "execution_count": null,
   "id": "08070c6b",
   "metadata": {},
   "outputs": [],
   "source": []
  },
  {
   "cell_type": "code",
   "execution_count": null,
   "id": "0913008f",
   "metadata": {},
   "outputs": [],
   "source": []
  },
  {
   "cell_type": "code",
   "execution_count": null,
   "id": "0287bedb",
   "metadata": {},
   "outputs": [],
   "source": []
  }
 ],
 "metadata": {
  "kernelspec": {
   "display_name": "Python 3 (ipykernel)",
   "language": "python",
   "name": "python3"
  },
  "language_info": {
   "codemirror_mode": {
    "name": "ipython",
    "version": 3
   },
   "file_extension": ".py",
   "mimetype": "text/x-python",
   "name": "python",
   "nbconvert_exporter": "python",
   "pygments_lexer": "ipython3",
   "version": "3.9.13"
  }
 },
 "nbformat": 4,
 "nbformat_minor": 5
}
