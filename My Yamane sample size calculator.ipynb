{
 "cells": [
  {
   "cell_type": "code",
   "execution_count": 22,
   "id": "34ba1b7d",
   "metadata": {},
   "outputs": [
    {
     "name": "stdout",
     "output_type": "stream",
     "text": [
      "Welcome!\n",
      " This sample size calculator has been developed by Moataz M. Khair.\n",
      " The calculator determines the sample size based on the Yamane equation.\n",
      "\n",
      " Please, enter population size, then press enter:111\n",
      " Please, enter confidence level 'without the % sign', then press enter:95\n",
      "\n",
      " Your sample size is:   ( 87 )\n",
      "\n",
      " Thank you for dropping by!\n"
     ]
    }
   ],
   "source": [
    "\n",
    "\n",
    "N= int(input(\"Welcome!\\n This sample size calculator has been developed by Moataz M. Khair.\\n The calculator determines the sample size based on the Yamane equation.\\n\\n Please, enter population size, then press enter:\"))\n",
    "CL= int(input(\" Please, enter confidence level 'without the % sign', then press enter:\"))\n",
    "e= (100-CL)/100\n",
    "n= N/(1+(N*(e**2)))\n",
    "import math\n",
    "sample_size = math.ceil(n)\n",
    "print(\"\\n\" , \"Your sample size is:\", \" \", \"(\",sample_size,\")\")\n",
    "print(\"\\n Thank you for dropping by!\")\n",
    "\n",
    "    \n"
   ]
  },
  {
   "cell_type": "code",
   "execution_count": null,
   "id": "07cb6dff",
   "metadata": {},
   "outputs": [],
   "source": []
  },
  {
   "cell_type": "code",
   "execution_count": null,
   "id": "09e5ec68",
   "metadata": {},
   "outputs": [],
   "source": []
  },
  {
   "cell_type": "code",
   "execution_count": null,
   "id": "297b40a0",
   "metadata": {},
   "outputs": [],
   "source": []
  },
  {
   "cell_type": "code",
   "execution_count": null,
   "id": "9566f1af",
   "metadata": {},
   "outputs": [],
   "source": []
  },
  {
   "cell_type": "code",
   "execution_count": null,
   "id": "892d9626",
   "metadata": {},
   "outputs": [],
   "source": []
  },
  {
   "cell_type": "code",
   "execution_count": null,
   "id": "efc5e19c",
   "metadata": {},
   "outputs": [],
   "source": []
  }
 ],
 "metadata": {
  "kernelspec": {
   "display_name": "Python 3 (ipykernel)",
   "language": "python",
   "name": "python3"
  },
  "language_info": {
   "codemirror_mode": {
    "name": "ipython",
    "version": 3
   },
   "file_extension": ".py",
   "mimetype": "text/x-python",
   "name": "python",
   "nbconvert_exporter": "python",
   "pygments_lexer": "ipython3",
   "version": "3.9.13"
  }
 },
 "nbformat": 4,
 "nbformat_minor": 5
}
